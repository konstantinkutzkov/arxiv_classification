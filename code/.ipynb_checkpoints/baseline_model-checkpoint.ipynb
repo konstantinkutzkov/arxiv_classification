{
 "cells": [
  {
   "cell_type": "code",
   "execution_count": 1,
   "id": "0928a77f",
   "metadata": {},
   "outputs": [
    {
     "name": "stderr",
     "output_type": "stream",
     "text": [
      "[nltk_data] Downloading package stopwords to /home/koki/nltk_data...\n",
      "[nltk_data]   Package stopwords is already up-to-date!\n"
     ]
    }
   ],
   "source": [
    "from utilities import * \n",
    "import nltk\n",
    "import numpy as np\n",
    "nltk.download('stopwords')\n",
    "import re\n",
    "import pandas as pd\n",
    "from nltk.corpus import stopwords\n",
    "from nltk.tokenize.toktok import ToktokTokenizer\n",
    "from sklearn.feature_extraction.text import CountVectorizer, TfidfVectorizer\n",
    "\n",
    "from sklearn import tree\n",
    "from sklearn.metrics import accuracy_score as acc, f1_score, roc_auc_score as auc\n",
    "from sklearn.multiclass import OneVsRestClassifier"
   ]
  },
  {
   "cell_type": "code",
   "execution_count": 2,
   "id": "d516dbc5",
   "metadata": {},
   "outputs": [
    {
     "name": "stdout",
     "output_type": "stream",
     "text": [
      "# processed papers 0\n",
      "# processed papers 500000\n",
      "# processed papers 1000000\n",
      "# processed papers 1500000\n",
      "# processed papers 2000000\n",
      "# processed papers 0\n",
      "# processed papers 500000\n",
      "# processed papers 1000000\n",
      "# processed papers 1500000\n",
      "# processed papers 2000000\n",
      "# processed papers 0\n",
      "# processed papers 500000\n",
      "# processed papers 1000000\n",
      "# processed papers 1500000\n",
      "# processed papers 2000000\n"
     ]
    }
   ],
   "source": [
    "datapath = '/home/koki/Desktop/Data/NLP/arxiv/archive/arxiv-metadata-oai-snapshot.json'\n",
    "            #'/kaggle/input/arxiv/arxiv-metadata-oai-snapshot.json'\n",
    "labelmap = {}\n",
    "sample_rate = 6\n",
    "abstracts_train, labels_train, labelmap = get_data_and_labels(\n",
    "                    datapath=datapath,\n",
    "                    year=2021, \n",
    "                    month_start=1,\n",
    "                    month_end=12,\n",
    "                    labelmap=labelmap,\n",
    "                    update_map=True,\n",
    "                    sample_rate=sample_rate\n",
    "                    )\n",
    "\n",
    "abstracts_val, labels_val, _ = get_data_and_labels(\n",
    "                    datapath=datapath,\n",
    "                    year=2022, \n",
    "                    month_start=1,\n",
    "                    month_end=6,\n",
    "                    labelmap=labelmap,\n",
    "                    update_map=False,\n",
    "                    sample_rate=sample_rate\n",
    "                    )\n",
    "\n",
    "abstracts_test, labels_test, _ = get_data_and_labels(\n",
    "                    datapath=datapath,\n",
    "                    year=2022, \n",
    "                    month_start=7,\n",
    "                    month_end=12,\n",
    "                    labelmap=labelmap,\n",
    "                    update_map=False,\n",
    "                    sample_rate=sample_rate\n",
    "                    )"
   ]
  },
  {
   "cell_type": "code",
   "execution_count": 3,
   "id": "b8b44e72",
   "metadata": {},
   "outputs": [],
   "source": [
    "#Removing the square brackets\n",
    "def remove_between_square_brackets(text):\n",
    "    return re.sub('\\[[^]]*\\]', '', text)\n",
    "\n",
    "#Removing the noisy text\n",
    "def denoise_text(text):\n",
    "    text = remove_between_square_brackets(text)\n",
    "    return text\n",
    "\n",
    "def remove_special_characters(text, remove_digits=True):\n",
    "    pattern=r'[^a-zA-z0-9\\s]'\n",
    "    text=re.sub(pattern,'',text)\n",
    "    return text\n",
    "\n",
    "def remove_stopwords(text, tokenizer, is_lower_case=False):\n",
    "    tokens = tokenizer.tokenize(text)\n",
    "    tokens = [token.strip() for token in tokens]\n",
    "    if is_lower_case:\n",
    "        tokens = [token.lower() for token in tokens]\n",
    "    if is_lower_case:\n",
    "        filtered_tokens = [token for token in tokens if token not in stopword_list]\n",
    "    else:\n",
    "        filtered_tokens = [token for token in tokens if token.lower() not in stopword_list]\n",
    "    filtered_text = ' '.join(filtered_tokens)    \n",
    "    return filtered_text\n",
    "\n",
    "stopword_list=stopwords.words('english')"
   ]
  },
  {
   "cell_type": "code",
   "execution_count": 4,
   "id": "7819e721",
   "metadata": {},
   "outputs": [],
   "source": [
    "toktok_tokenizer=ToktokTokenizer()\n",
    "def clean(abstracts, tokenizer=toktok_tokenizer):\n",
    "    clean_abstracts = [denoise_text(abstract) for abstract in abstracts] \n",
    "    clean_abstracts = [remove_special_characters(abstract) for abstract in clean_abstracts]  \n",
    "    clean_abstracts = [remove_stopwords(abstract, tokenizer, is_lower_case=True) for abstract in \\\n",
    "                       clean_abstracts]  \n",
    "    return clean_abstracts\n",
    "clean_train = clean(abstracts_train)\n",
    "clean_val = clean(abstracts_val)\n",
    "clean_test = clean(abstracts_test)"
   ]
  },
  {
   "cell_type": "code",
   "execution_count": 5,
   "id": "f88e4110",
   "metadata": {},
   "outputs": [],
   "source": [
    "cv=CountVectorizer(min_df=0.01,max_df=0.5,binary=False,ngram_range=(1,1))\n",
    "cv_train = cv.fit_transform(clean_train)\n",
    "cv_val = cv.transform(clean_val)\n",
    "cv_test = cv.transform(clean_test)\n",
    "\n",
    "assert cv_train.shape[1] == cv_val.shape[1]\n",
    "assert cv_train.shape[1] == cv_test.shape[1]"
   ]
  },
  {
   "cell_type": "code",
   "execution_count": 6,
   "id": "87fa55e7",
   "metadata": {},
   "outputs": [],
   "source": [
    "X_train = pd.DataFrame(data=cv_train.toarray(),columns = cv.get_feature_names_out())\n",
    "X_val = pd.DataFrame(data=cv_val.toarray(),columns = cv.get_feature_names_out())\n",
    "X_test = pd.DataFrame(data=cv_test.toarray(),columns = cv.get_feature_names_out())"
   ]
  },
  {
   "cell_type": "code",
   "execution_count": 7,
   "id": "5b51dad0",
   "metadata": {},
   "outputs": [],
   "source": [
    "def one_hot(y, labelmap):  \n",
    "    encoded = np.zeros((len(y), len(labelmap))) #len(np.unique(y))))\n",
    "    for i, label_i in enumerate(y):\n",
    "        for lb_j in label_i:\n",
    "            encoded[i, lb_j] = 1       \n",
    "    return encoded\n",
    "\n",
    "y_train = one_hot(labels_train, labelmap)\n",
    "y_val = one_hot(labels_val, labelmap)\n",
    "y_test = one_hot(labels_test, labelmap)"
   ]
  },
  {
   "cell_type": "code",
   "execution_count": 8,
   "id": "d6b429cd",
   "metadata": {},
   "outputs": [
    {
     "data": {
      "text/plain": [
       "21"
      ]
     },
     "execution_count": 8,
     "metadata": {},
     "output_type": "execute_result"
    }
   ],
   "source": [
    "len(labelmap)"
   ]
  },
  {
   "cell_type": "code",
   "execution_count": null,
   "id": "780ce9b6",
   "metadata": {},
   "outputs": [
    {
     "name": "stdout",
     "output_type": "stream",
     "text": [
      "depth 3\n"
     ]
    },
    {
     "ename": "ValueError",
     "evalue": "Only one class present in y_true. ROC AUC score is not defined in that case.",
     "output_type": "error",
     "traceback": [
      "\u001b[0;31m---------------------------------------------------------------------------\u001b[0m",
      "\u001b[0;31mValueError\u001b[0m                                Traceback (most recent call last)",
      "Input \u001b[0;32mIn [9]\u001b[0m, in \u001b[0;36m<cell line: 3>\u001b[0;34m()\u001b[0m\n\u001b[1;32m      7\u001b[0m model\u001b[38;5;241m.\u001b[39mfit(X_train, y_train)\n\u001b[1;32m      8\u001b[0m y_pred_prob \u001b[38;5;241m=\u001b[39m model\u001b[38;5;241m.\u001b[39mpredict_proba(X_val) \n\u001b[0;32m----> 9\u001b[0m current_auc \u001b[38;5;241m=\u001b[39m \u001b[43mauc\u001b[49m\u001b[43m(\u001b[49m\u001b[43my_val\u001b[49m\u001b[43m,\u001b[49m\u001b[43m \u001b[49m\u001b[43my_pred_prob\u001b[49m\u001b[43m)\u001b[49m\n\u001b[1;32m     10\u001b[0m \u001b[38;5;28mprint\u001b[39m(\u001b[38;5;124m'\u001b[39m\u001b[38;5;124mAUC\u001b[39m\u001b[38;5;124m'\u001b[39m, current_auc)\n\u001b[1;32m     11\u001b[0m \u001b[38;5;28;01mif\u001b[39;00m current_auc \u001b[38;5;241m>\u001b[39m best_auc:\n",
      "File \u001b[0;32m~/.local/lib/python3.10/site-packages/sklearn/metrics/_ranking.py:580\u001b[0m, in \u001b[0;36mroc_auc_score\u001b[0;34m(y_true, y_score, average, sample_weight, max_fpr, multi_class, labels)\u001b[0m\n\u001b[1;32m    572\u001b[0m     \u001b[38;5;28;01mreturn\u001b[39;00m _average_binary_score(\n\u001b[1;32m    573\u001b[0m         partial(_binary_roc_auc_score, max_fpr\u001b[38;5;241m=\u001b[39mmax_fpr),\n\u001b[1;32m    574\u001b[0m         y_true,\n\u001b[0;32m   (...)\u001b[0m\n\u001b[1;32m    577\u001b[0m         sample_weight\u001b[38;5;241m=\u001b[39msample_weight,\n\u001b[1;32m    578\u001b[0m     )\n\u001b[1;32m    579\u001b[0m \u001b[38;5;28;01melse\u001b[39;00m:  \u001b[38;5;66;03m# multilabel-indicator\u001b[39;00m\n\u001b[0;32m--> 580\u001b[0m     \u001b[38;5;28;01mreturn\u001b[39;00m \u001b[43m_average_binary_score\u001b[49m\u001b[43m(\u001b[49m\n\u001b[1;32m    581\u001b[0m \u001b[43m        \u001b[49m\u001b[43mpartial\u001b[49m\u001b[43m(\u001b[49m\u001b[43m_binary_roc_auc_score\u001b[49m\u001b[43m,\u001b[49m\u001b[43m \u001b[49m\u001b[43mmax_fpr\u001b[49m\u001b[38;5;241;43m=\u001b[39;49m\u001b[43mmax_fpr\u001b[49m\u001b[43m)\u001b[49m\u001b[43m,\u001b[49m\n\u001b[1;32m    582\u001b[0m \u001b[43m        \u001b[49m\u001b[43my_true\u001b[49m\u001b[43m,\u001b[49m\n\u001b[1;32m    583\u001b[0m \u001b[43m        \u001b[49m\u001b[43my_score\u001b[49m\u001b[43m,\u001b[49m\n\u001b[1;32m    584\u001b[0m \u001b[43m        \u001b[49m\u001b[43maverage\u001b[49m\u001b[43m,\u001b[49m\n\u001b[1;32m    585\u001b[0m \u001b[43m        \u001b[49m\u001b[43msample_weight\u001b[49m\u001b[38;5;241;43m=\u001b[39;49m\u001b[43msample_weight\u001b[49m\u001b[43m,\u001b[49m\n\u001b[1;32m    586\u001b[0m \u001b[43m    \u001b[49m\u001b[43m)\u001b[49m\n",
      "File \u001b[0;32m~/.local/lib/python3.10/site-packages/sklearn/metrics/_base.py:118\u001b[0m, in \u001b[0;36m_average_binary_score\u001b[0;34m(binary_metric, y_true, y_score, average, sample_weight)\u001b[0m\n\u001b[1;32m    116\u001b[0m     y_true_c \u001b[38;5;241m=\u001b[39m y_true\u001b[38;5;241m.\u001b[39mtake([c], axis\u001b[38;5;241m=\u001b[39mnot_average_axis)\u001b[38;5;241m.\u001b[39mravel()\n\u001b[1;32m    117\u001b[0m     y_score_c \u001b[38;5;241m=\u001b[39m y_score\u001b[38;5;241m.\u001b[39mtake([c], axis\u001b[38;5;241m=\u001b[39mnot_average_axis)\u001b[38;5;241m.\u001b[39mravel()\n\u001b[0;32m--> 118\u001b[0m     score[c] \u001b[38;5;241m=\u001b[39m \u001b[43mbinary_metric\u001b[49m\u001b[43m(\u001b[49m\u001b[43my_true_c\u001b[49m\u001b[43m,\u001b[49m\u001b[43m \u001b[49m\u001b[43my_score_c\u001b[49m\u001b[43m,\u001b[49m\u001b[43m \u001b[49m\u001b[43msample_weight\u001b[49m\u001b[38;5;241;43m=\u001b[39;49m\u001b[43mscore_weight\u001b[49m\u001b[43m)\u001b[49m\n\u001b[1;32m    120\u001b[0m \u001b[38;5;66;03m# Average the results\u001b[39;00m\n\u001b[1;32m    121\u001b[0m \u001b[38;5;28;01mif\u001b[39;00m average \u001b[38;5;129;01mis\u001b[39;00m \u001b[38;5;129;01mnot\u001b[39;00m \u001b[38;5;28;01mNone\u001b[39;00m:\n",
      "File \u001b[0;32m~/.local/lib/python3.10/site-packages/sklearn/metrics/_ranking.py:339\u001b[0m, in \u001b[0;36m_binary_roc_auc_score\u001b[0;34m(y_true, y_score, sample_weight, max_fpr)\u001b[0m\n\u001b[1;32m    337\u001b[0m \u001b[38;5;124;03m\"\"\"Binary roc auc score.\"\"\"\u001b[39;00m\n\u001b[1;32m    338\u001b[0m \u001b[38;5;28;01mif\u001b[39;00m \u001b[38;5;28mlen\u001b[39m(np\u001b[38;5;241m.\u001b[39munique(y_true)) \u001b[38;5;241m!=\u001b[39m \u001b[38;5;241m2\u001b[39m:\n\u001b[0;32m--> 339\u001b[0m     \u001b[38;5;28;01mraise\u001b[39;00m \u001b[38;5;167;01mValueError\u001b[39;00m(\n\u001b[1;32m    340\u001b[0m         \u001b[38;5;124m\"\u001b[39m\u001b[38;5;124mOnly one class present in y_true. ROC AUC score \u001b[39m\u001b[38;5;124m\"\u001b[39m\n\u001b[1;32m    341\u001b[0m         \u001b[38;5;124m\"\u001b[39m\u001b[38;5;124mis not defined in that case.\u001b[39m\u001b[38;5;124m\"\u001b[39m\n\u001b[1;32m    342\u001b[0m     )\n\u001b[1;32m    344\u001b[0m fpr, tpr, _ \u001b[38;5;241m=\u001b[39m roc_curve(y_true, y_score, sample_weight\u001b[38;5;241m=\u001b[39msample_weight)\n\u001b[1;32m    345\u001b[0m \u001b[38;5;28;01mif\u001b[39;00m max_fpr \u001b[38;5;129;01mis\u001b[39;00m \u001b[38;5;28;01mNone\u001b[39;00m \u001b[38;5;129;01mor\u001b[39;00m max_fpr \u001b[38;5;241m==\u001b[39m \u001b[38;5;241m1\u001b[39m:\n",
      "\u001b[0;31mValueError\u001b[0m: Only one class present in y_true. ROC AUC score is not defined in that case."
     ]
    }
   ],
   "source": [
    "best_auc = 0\n",
    "best_model = None\n",
    "for depth in range(3, 5):\n",
    "    print('depth', depth)\n",
    "    model = tree.DecisionTreeClassifier(max_depth=depth) \n",
    "    model = OneVsRestClassifier(model)\n",
    "    model.fit(X_train, y_train)\n",
    "    y_pred_prob = model.predict_proba(X_val) \n",
    "    current_auc = auc(y_val, y_pred_prob)\n",
    "    print('AUC', current_auc)\n",
    "    if current_auc > best_auc:\n",
    "        best_auc = current_auc\n",
    "        best_model = model\n",
    "    else:\n",
    "        break"
   ]
  },
  {
   "cell_type": "code",
   "execution_count": null,
   "id": "f840c325",
   "metadata": {},
   "outputs": [],
   "source": [
    "y_pred = best_model.predict(X_test)\n",
    "y_pred_prob = best_model.predict_proba(X_test)\n",
    "\n",
    "auc_micro, auc_macro, f1_micro, f1_macro = \\\n",
    "                auc(y_test, y_pred_prob, average='micro'), auc(y_test, y_pred_prob, average='macro'),\\\n",
    "                f1_score(y_test, y_pred, average='micro'), f1_score(y_test, y_pred, average='macro')\n",
    "\n",
    "print('micro-AUC: {}, macro-AUC: {}, micro-F1: {}, macro-F1: {}'.format(np.round(auc_micro, 3),\\\n",
    "                                    np.round(auc_macro, 3), np.round(micro, 3), np.round(macro, 3)))"
   ]
  },
  {
   "cell_type": "code",
   "execution_count": null,
   "id": "e3dec821",
   "metadata": {},
   "outputs": [],
   "source": []
  },
  {
   "cell_type": "code",
   "execution_count": null,
   "id": "58102be4",
   "metadata": {},
   "outputs": [],
   "source": []
  }
 ],
 "metadata": {
  "kernelspec": {
   "display_name": "Python 3 (ipykernel)",
   "language": "python",
   "name": "python3"
  },
  "language_info": {
   "codemirror_mode": {
    "name": "ipython",
    "version": 3
   },
   "file_extension": ".py",
   "mimetype": "text/x-python",
   "name": "python",
   "nbconvert_exporter": "python",
   "pygments_lexer": "ipython3",
   "version": "3.10.6"
  }
 },
 "nbformat": 4,
 "nbformat_minor": 5
}
